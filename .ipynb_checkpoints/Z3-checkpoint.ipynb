{
 "cells": [
  {
   "cell_type": "code",
   "execution_count": 1,
   "metadata": {},
   "outputs": [
    {
     "name": "stdout",
     "output_type": "stream",
     "text": [
      "sat\n",
      "[Tie = False, Shirt = True]\n"
     ]
    }
   ],
   "source": [
    "from z3 import *\n",
    "Tie, Shirt = Bools('Tie Shirt')\n",
    "s = Solver()\n",
    "s.add(Or(Tie, Shirt), \n",
    "      Or(Not(Tie), Shirt), \n",
    "      Or(Not(Tie), Not(Shirt)))\n",
    "print(s.check())\n",
    "print(s.model())"
   ]
  },
  {
   "cell_type": "code",
   "execution_count": 20,
   "metadata": {},
   "outputs": [
    {
     "name": "stdout",
     "output_type": "stream",
     "text": [
      "[A = K(Int, 2), y = 0, x = -3]\n"
     ]
    }
   ],
   "source": [
    "Z = IntSort()\n",
    "f = Function('f', Z, Z)\n",
    "x, y, z = Ints('x y z')\n",
    "A = Array('A', Z, Z)\n",
    "fml = Implies(x + 2 == y, f(Store(A, x, 3)[y - 2]) == f(y - x + 1))\n",
    "solve(fml)"
   ]
  },
  {
   "cell_type": "code",
   "execution_count": 21,
   "metadata": {},
   "outputs": [
    {
     "name": "stdout",
     "output_type": "stream",
     "text": [
      "(declare-fun y () Int)\n",
      "(declare-fun x () Int)\n",
      "(assert (> (+ (mod x 4) (* 3 (div y 2))) (- x y)))\n",
      "\n"
     ]
    }
   ],
   "source": [
    "from z3 import *\n",
    "x, y = Ints('x y')\n",
    "s = Solver()\n",
    "s.add((x % 4) + 3 * (y / 2) > x - y)\n",
    "print(s.sexpr())"
   ]
  },
  {
   "cell_type": "code",
   "execution_count": 22,
   "metadata": {},
   "outputs": [
    {
     "name": "stdout",
     "output_type": "stream",
     "text": [
      "[y = 0, x = 7]\n"
     ]
    }
   ],
   "source": [
    "x = Int('x')\n",
    "y = Int('y')\n",
    "solve(x > 2, y < 10, x + 2*y == 7)"
   ]
  },
  {
   "cell_type": "code",
   "execution_count": 23,
   "metadata": {},
   "outputs": [
    {
     "name": "stdout",
     "output_type": "stream",
     "text": [
      "3 + 3*x + y\n",
      "Not(y <= -2)\n",
      "And(x >= 2, 2*x**2 + y**2 >= 3)\n"
     ]
    }
   ],
   "source": [
    "x = Int('x')\n",
    "y = Int('y')\n",
    "print (simplify(x + y + 2*x + 3))\n",
    "print (simplify(x < y + x + 2))\n",
    "print (simplify(And(x + 1 >= 3, x**2 + x**2 + y**2 + 2 >= 5)))"
   ]
  },
  {
   "cell_type": "code",
   "execution_count": 24,
   "metadata": {},
   "outputs": [
    {
     "name": "stdout",
     "output_type": "stream",
     "text": [
      "num args:  2\n",
      "children:  [x + y, 3]\n",
      "1st child: x + y\n",
      "2nd child: 3\n",
      "operator:  >=\n",
      "op name:   >=\n"
     ]
    }
   ],
   "source": [
    "x = Int('x')\n",
    "y = Int('y')\n",
    "n = x + y >= 3\n",
    "print (\"num args: \", n.num_args())\n",
    "print (\"children: \", n.children())\n",
    "print (\"1st child:\", n.arg(0))\n",
    "print (\"2nd child:\", n.arg(1))\n",
    "print (\"operator: \", n.decl())\n",
    "print (\"op name:  \", n.decl().name())"
   ]
  },
  {
   "cell_type": "code",
   "execution_count": 25,
   "metadata": {},
   "outputs": [
    {
     "name": "stdout",
     "output_type": "stream",
     "text": [
      "[y = 2, x = 1/8]\n"
     ]
    }
   ],
   "source": [
    "x = Real('x')\n",
    "y = Real('y')\n",
    "solve(x**2 + y**2 > 3, x**3 + y < 5)"
   ]
  },
  {
   "cell_type": "code",
   "execution_count": 26,
   "metadata": {},
   "outputs": [
    {
     "name": "stdout",
     "output_type": "stream",
     "text": [
      "0.3333333333333333\n",
      "1/3\n",
      "1/3\n",
      "x + 3333333333333333/10000000000000000\n",
      "x + 1/3\n",
      "x + 1/3\n",
      "x + 1/4\n"
     ]
    }
   ],
   "source": [
    "print (1/3)\n",
    "print (RealVal(1)/3)\n",
    "print (Q(1,3))\n",
    "\n",
    "x = Real('x')\n",
    "print (x + 1/3)\n",
    "print (x + Q(1,3))\n",
    "print (x + \"1/3\")\n",
    "print (x + 0.25)"
   ]
  },
  {
   "cell_type": "code",
   "execution_count": 27,
   "metadata": {},
   "outputs": [
    {
     "name": "stdout",
     "output_type": "stream",
     "text": [
      "[q = False, p = False, r = True]\n"
     ]
    }
   ],
   "source": [
    "p = Bool('p')\n",
    "q = Bool('q')\n",
    "r = Bool('r')\n",
    "solve(Implies(p, q), r == Not(q), Or(Not(p), r))"
   ]
  },
  {
   "cell_type": "code",
   "execution_count": 28,
   "metadata": {},
   "outputs": [
    {
     "name": "stdout",
     "output_type": "stream",
     "text": [
      "[x = -1.4142135623?, p = False]\n"
     ]
    }
   ],
   "source": [
    "p = Bool('p')\n",
    "x = Real('x')\n",
    "solve(Or(x < 5, x > 10), Or(p, x**2 == 2), Not(p))"
   ]
  },
  {
   "cell_type": "code",
   "execution_count": 29,
   "metadata": {},
   "outputs": [
    {
     "data": {
      "text/plain": [
       "[[x_1_1, x_1_2, x_1_3, x_1_4, x_1_5, x_1_6, x_1_7, x_1_8, x_1_9],\n",
       " [x_2_1, x_2_2, x_2_3, x_2_4, x_2_5, x_2_6, x_2_7, x_2_8, x_2_9],\n",
       " [x_3_1, x_3_2, x_3_3, x_3_4, x_3_5, x_3_6, x_3_7, x_3_8, x_3_9],\n",
       " [x_4_1, x_4_2, x_4_3, x_4_4, x_4_5, x_4_6, x_4_7, x_4_8, x_4_9],\n",
       " [x_5_1, x_5_2, x_5_3, x_5_4, x_5_5, x_5_6, x_5_7, x_5_8, x_5_9],\n",
       " [x_6_1, x_6_2, x_6_3, x_6_4, x_6_5, x_6_6, x_6_7, x_6_8, x_6_9],\n",
       " [x_7_1, x_7_2, x_7_3, x_7_4, x_7_5, x_7_6, x_7_7, x_7_8, x_7_9],\n",
       " [x_8_1, x_8_2, x_8_3, x_8_4, x_8_5, x_8_6, x_8_7, x_8_8, x_8_9],\n",
       " [x_9_1, x_9_2, x_9_3, x_9_4, x_9_5, x_9_6, x_9_7, x_9_8, x_9_9]]"
      ]
     },
     "execution_count": 29,
     "metadata": {},
     "output_type": "execute_result"
    }
   ],
   "source": [
    "X = [ [ Int(f\"x_{i+1}_{j+1}\") for j in range(9) ] for i in range(9) ]\n",
    "X"
   ]
  },
  {
   "cell_type": "code",
   "execution_count": 30,
   "metadata": {},
   "outputs": [],
   "source": [
    "# 9x9 matrix of integer variables\n",
    "X = [ [ Int(\"x_%s_%s\" % (i+1, j+1)) for j in range(9) ]\n",
    "      for i in range(9) ]\n",
    "\n",
    "# each cell contains a value in {1, ..., 9}\n",
    "cells_c  = [ And(1 <= X[i][j], X[i][j] <= 9) for i in range(9) for j in range(9) ]\n",
    "\n",
    "# each row contains a digit at most once\n",
    "rows_c   = [ Distinct(X[i]) for i in range(9) ]\n",
    "\n",
    "# each column contains a digit at most once\n",
    "cols_c   = [ Distinct([ X[i][j] for i in range(9) ]) for j in range(9) ]\n",
    "\n",
    "# each 3x3 square contains a digit at most once\n",
    "sq_c     = [ Distinct([ X[3*i0 + i][3*j0 + j] for i in range(3) for j in range(3) ]) for i0 in range(3) for j0 in range(3) ]\n",
    "\n",
    "sudoku_c = cells_c + rows_c + cols_c + sq_c"
   ]
  },
  {
   "cell_type": "code",
   "execution_count": 31,
   "metadata": {},
   "outputs": [
    {
     "name": "stdout",
     "output_type": "stream",
     "text": [
      "[[7, 1, 5, 8, 9, 4, 6, 3, 2],\n",
      " [2, 3, 4, 5, 1, 6, 8, 9, 7],\n",
      " [6, 8, 9, 7, 2, 3, 1, 4, 5],\n",
      " [4, 9, 3, 6, 5, 7, 2, 1, 8],\n",
      " [8, 6, 7, 2, 3, 1, 9, 5, 4],\n",
      " [1, 5, 2, 4, 8, 9, 7, 6, 3],\n",
      " [3, 7, 6, 1, 4, 8, 5, 2, 9],\n",
      " [9, 2, 8, 3, 6, 5, 4, 7, 1],\n",
      " [5, 4, 1, 9, 7, 2, 3, 8, 6]]\n"
     ]
    }
   ],
   "source": [
    "# sudoku instance, we use '0' for empty cells\n",
    "instance = ((0,0,0,0,9,4,0,3,0),\n",
    "            (0,0,0,5,1,0,0,0,7),\n",
    "            (0,8,9,0,0,0,0,4,0),\n",
    "            (0,0,0,0,0,0,2,0,8),\n",
    "            (0,6,0,2,0,1,0,5,0),\n",
    "            (1,0,2,0,0,0,0,0,0),\n",
    "            (0,7,0,0,0,0,5,2,0),\n",
    "            (9,0,0,0,6,5,0,0,0),\n",
    "            (0,4,0,9,7,0,0,0,0))\n",
    "\n",
    "instance_c = [ If(instance[i][j] == 0, True, X[i][j] == instance[i][j]) for i in range(9) for j in range(9) ]\n",
    "\n",
    "s = Solver()\n",
    "s.add(sudoku_c + instance_c)\n",
    "if s.check() == sat:\n",
    "    m = s.model()\n",
    "    r = [ [ m.evaluate(X[i][j]) for j in range(9) ] for i in range(9) ]\n",
    "    print_matrix(r)\n",
    "else:\n",
    "    print (\"failed to solve\")"
   ]
  },
  {
   "cell_type": "markdown",
   "metadata": {},
   "source": [
    "# Fitting Rectangle"
   ]
  },
  {
   "cell_type": "code",
   "execution_count": 45,
   "metadata": {},
   "outputs": [
    {
     "name": "stdout",
     "output_type": "stream",
     "text": [
      "[Or(And(w0 == 20, h0 == 20), And(w0 == 20, h0 == 20)),\n",
      " Or(And(w1 == 40, h1 == 70), And(w1 == 70, h1 == 40)),\n",
      " Or(And(w2 == 60, h2 == 80), And(w2 == 80, h2 == 60)),\n",
      " Or(And(w3 == 30, h3 == 20), And(w3 == 20, h3 == 30)),\n",
      " And(x0 >= 0, x0 + w0 <= 100, y0 >= 0, y0 + h0 <= 100),\n",
      " And(x1 >= 0, x1 + w1 <= 100, y1 >= 0, y1 + h1 <= 100),\n",
      " And(x2 >= 0, x2 + w2 <= 100, y2 >= 0, y2 + h2 <= 100),\n",
      " And(x3 >= 0, x3 + w3 <= 100, y3 >= 0, y3 + h3 <= 100),\n",
      " Or(x0 + w0 <= x1,\n",
      "    x1 + w1 <= x0,\n",
      "    y0 + h0 <= y1,\n",
      "    y1 + h1 <= y0),\n",
      " Or(x0 + w0 <= x2,\n",
      "    x2 + w2 <= x0,\n",
      "    y0 + h0 <= y2,\n",
      "    y2 + h2 <= y0),\n",
      " Or(x0 + w0 <= x3,\n",
      "    x3 + w3 <= x0,\n",
      "    y0 + h0 <= y3,\n",
      "    y3 + h3 <= y0),\n",
      " Or(x1 + w1 <= x2,\n",
      "    x2 + w2 <= x1,\n",
      "    y1 + h1 <= y2,\n",
      "    y2 + h2 <= y1),\n",
      " Or(x1 + w1 <= x3,\n",
      "    x3 + w3 <= x1,\n",
      "    y1 + h1 <= y3,\n",
      "    y3 + h3 <= y1),\n",
      " Or(x2 + w2 <= x3,\n",
      "    x3 + w3 <= x2,\n",
      "    y2 + h2 <= y3,\n",
      "    y3 + h3 <= y2)]\n",
      "---------------------------\n",
      "[w3 = 20,\n",
      " w1 = 70,\n",
      " y1 = 0,\n",
      " h1 = 40,\n",
      " y0 = 20,\n",
      " h3 = 30,\n",
      " x2 = 0,\n",
      " x1 = 30,\n",
      " y3 = 40,\n",
      " x3 = 80,\n",
      " w2 = 80,\n",
      " h2 = 60,\n",
      " y2 = 40,\n",
      " x0 = 10,\n",
      " h0 = 20,\n",
      " w0 = 20]\n"
     ]
    }
   ],
   "source": [
    "Width = 100\n",
    "Height = 100\n",
    "w = [Int(f'w{i}') for i in range(4)]\n",
    "h = [Int(f'h{i}') for i in range(4)]\n",
    "W = [20,40,60,30]\n",
    "H = [20,70,80,20]\n",
    "Form = [Or(And(w[i]==W[i],h[i]==H[i]), And(w[i]==H[i],h[i]==W[i])) for i in range(4)]\n",
    "\n",
    "x = [Int(f'x{i}') for i in range(4)]\n",
    "y = [Int(f'y{i}') for i in range(4)]\n",
    "IN = [And(x[i]>=0,x[i]+w[i]<=Width,y[i]>=0,y[i]+h[i]<=Height) for i in range(4)]\n",
    "\n",
    "Overlap = []\n",
    "for i,j in [(m,k) for m in range(4) for k in range(4) if m < k]:\n",
    "    Overlap = Overlap + [Or(x[i]+w[i]<=x[j],x[j]+w[j]<=x[i],y[i]+h[i]<=y[j],y[j]+h[j]<=y[i])]\n",
    "s = Solver()\n",
    "s.add(Form + IN + Overlap)\n",
    "print(s)\n",
    "print('---------------------------')\n",
    "#solve(Form + IN + Overlap)\n",
    "s.check()\n",
    "m = s.model()\n",
    "print(m)"
   ]
  },
  {
   "cell_type": "code",
   "execution_count": 46,
   "metadata": {},
   "outputs": [
    {
     "data": {
      "text/plain": [
       "<matplotlib.image.AxesImage at 0x1582b34d668>"
      ]
     },
     "execution_count": 46,
     "metadata": {},
     "output_type": "execute_result"
    },
    {
     "data": {
      "image/png": "[encoded data removed]",
      "text/plain": [
       "<Figure size 432x288 with 1 Axes>"
      ]
     },
     "metadata": {
      "needs_background": "light"
     },
     "output_type": "display_data"
    }
   ],
   "source": [
    "import cv2\n",
    "import numpy as np\n",
    "import matplotlib.pyplot as plt\n",
    "img = np.zeros([Width,Height,3],dtype=np.uint8)\n",
    "img.fill(255)\n",
    "for i in range(4):\n",
    "    X = m[x[i]].as_long()\n",
    "    Y = m[y[i]].as_long()\n",
    "    W = m[w[i]].as_long()\n",
    "    H = m[h[i]].as_long()\n",
    "    cv2.rectangle(img,(X,100-Y),((X+W),100-(Y+H)),(0,255,0),-1)\n",
    "    cv2.rectangle(img,(X,100-Y),((X+W),100-(Y+H)),(0,0,0),1)\n",
    "    \n",
    "plt.imshow(img)"
   ]
  },
  {
   "cell_type": "code",
   "execution_count": 16,
   "metadata": {},
   "outputs": [],
   "source": [
    "plt.imsave('rect.jpg',img)"
   ]
  },
  {
   "cell_type": "code",
   "execution_count": 17,
   "metadata": {},
   "outputs": [
    {
     "name": "stdout",
     "output_type": "stream",
     "text": [
      "[b = 1, a = 2]\n",
      "[b = 2, a = 4]\n",
      "[b = 1, a = 3]\n",
      "[b = 3, a = 6]\n",
      "[b = 2, a = 7]\n",
      "[b = 2, a = 8]\n",
      "[b = 2, a = 9]\n",
      "[b = 2, a = 10]\n",
      "[b = 2, a = 11]\n",
      "[b = 2, a = 12]\n",
      "[b = 2, a = 13]\n",
      "[b = 2, a = 14]\n",
      "[b = 2, a = 15]\n",
      "[b = 2, a = 16]\n",
      "[b = 2, a = 17]\n",
      "[b = 2, a = 18]\n",
      "[b = 2, a = 19]\n",
      "[b = 2, a = 20]\n",
      "[b = 4, a = 20]\n",
      "[b = 5, a = 20]\n",
      "[b = 6, a = 20]\n",
      "[b = 7, a = 20]\n",
      "[b = 8, a = 20]\n",
      "[b = 9, a = 20]\n",
      "[b = 10, a = 20]\n",
      "[b = 9, a = 19]\n",
      "[b = 9, a = 18]\n",
      "[b = 8, a = 17]\n",
      "[b = 8, a = 16]\n",
      "[b = 5, a = 16]\n",
      "[b = 6, a = 16]\n",
      "[b = 6, a = 15]\n",
      "[b = 6, a = 14]\n",
      "[b = 6, a = 13]\n",
      "[b = 6, a = 12]\n",
      "[b = 6, a = 17]\n",
      "[b = 5, a = 17]\n",
      "[b = 3, a = 17]\n",
      "[b = 4, a = 17]\n",
      "[b = 1, a = 17]\n",
      "[b = 7, a = 17]\n",
      "[b = 4, a = 18]\n",
      "[b = 4, a = 19]\n",
      "[b = 3, a = 20]\n",
      "[b = 1, a = 20]\n",
      "[b = 7, a = 19]\n",
      "[b = 7, a = 18]\n",
      "[b = 7, a = 16]\n",
      "[b = 7, a = 15]\n",
      "[b = 7, a = 14]\n",
      "[b = 8, a = 19]\n",
      "[b = 8, a = 18]\n",
      "[b = 5, a = 10]\n",
      "[b = 5, a = 11]\n",
      "[b = 3, a = 11]\n",
      "[b = 3, a = 8]\n",
      "[b = 3, a = 9]\n",
      "[b = 3, a = 7]\n",
      "[b = 3, a = 10]\n",
      "[b = 1, a = 8]\n",
      "[b = 1, a = 7]\n",
      "[b = 1, a = 6]\n",
      "[b = 1, a = 5]\n",
      "[b = 1, a = 4]\n",
      "[b = 1, a = 9]\n",
      "[b = 2, a = 5]\n",
      "[b = 2, a = 6]\n",
      "[b = 1, a = 10]\n",
      "[b = 1, a = 11]\n",
      "[b = 1, a = 12]\n",
      "[b = 1, a = 13]\n",
      "[b = 1, a = 14]\n",
      "[b = 1, a = 15]\n",
      "[b = 1, a = 16]\n",
      "[b = 1, a = 18]\n",
      "[b = 1, a = 19]\n",
      "[b = 4, a = 11]\n",
      "[b = 4, a = 10]\n",
      "[b = 5, a = 12]\n",
      "[b = 5, a = 13]\n",
      "[b = 5, a = 14]\n",
      "[b = 5, a = 15]\n",
      "[b = 5, a = 18]\n",
      "[b = 5, a = 19]\n",
      "[b = 6, a = 19]\n",
      "[b = 6, a = 18]\n",
      "[b = 4, a = 16]\n",
      "[b = 4, a = 15]\n",
      "[b = 4, a = 14]\n",
      "[b = 4, a = 13]\n",
      "[b = 4, a = 12]\n",
      "[b = 3, a = 12]\n",
      "[b = 3, a = 13]\n",
      "[b = 3, a = 14]\n",
      "[b = 3, a = 15]\n",
      "[b = 3, a = 16]\n",
      "[b = 3, a = 18]\n",
      "[b = 3, a = 19]\n",
      "[b = 4, a = 9]\n",
      "[b = 4, a = 8]\n"
     ]
    }
   ],
   "source": [
    "# Z3: finding all satisfying models\n",
    "a = Int('a')\n",
    "b = Int('b')\n",
    "\n",
    "s = Solver()\n",
    "s.add(1 <= a)\n",
    "s.add(a <= 20)\n",
    "s.add(1 <= b)\n",
    "s.add(b <= 20)\n",
    "s.add(a >= 2*b)\n",
    "\n",
    "while s.check() == sat:\n",
    "    print (s.model())\n",
    "    s.add(Or(a != s.model()[a], b != s.model()[b])) # prevent next model from using the same assignment as a previous model"
   ]
  },
  {
   "cell_type": "code",
   "execution_count": 39,
   "metadata": {
    "scrolled": true
   },
   "outputs": [
    {
     "name": "stdout",
     "output_type": "stream",
     "text": [
      "0 1\n",
      "0 2\n",
      "0 3\n",
      "1 2\n",
      "1 3\n",
      "2 3\n"
     ]
    }
   ],
   "source": [
    "for m,k in [(i,j) for i in range(4) for j in range(4) if i < j]:\n",
    "    print(m,k)"
   ]
  },
  {
   "cell_type": "code",
   "execution_count": 16,
   "metadata": {},
   "outputs": [],
   "source": [
    "import numpy as np\n",
    "import matplotlib.pyplot as plt\n",
    "import cv2"
   ]
  },
  {
   "cell_type": "code",
   "execution_count": 26,
   "metadata": {},
   "outputs": [],
   "source": [
    "def Fitt_rect(FW,FH,width,height):\n",
    "    Width = FW\n",
    "    Height = FH\n",
    "    W = width\n",
    "    H = height\n",
    "    n = len(W)\n",
    "    w = [Int(f'w{i}') for i in range(n)]\n",
    "    h = [Int(f'h{i}') for i in range(n)]\n",
    "    Form = [Or(And(w[i]==W[i],h[i]==H[i]),\n",
    "               And(w[i]==H[i],h[i]==W[i])) for i in range(n)]\n",
    "\n",
    "    x = [Int(f'x{i}') for i in range(n)]\n",
    "    y = [Int(f'y{i}') for i in range(n)]\n",
    "    IN = [And(x[i]>=0,x[i]+w[i]<=Width,y[i]>=0,y[i]+h[i]<=Height) for i in range(n)]\n",
    "\n",
    "    Overlap = []\n",
    "    for i,j in [(m,k) for m in range(n) for k in range(n) if m < k]:\n",
    "        Overlap = Overlap + [Or(x[i]+w[i]<=x[j],x[j]+w[j]<=x[i],y[i]+h[i]<=y[j],y[j]+h[j]<=y[i])]\n",
    "        \n",
    "    s = Solver()\n",
    "    s.add(Form + IN + Overlap)\n",
    "    s.check()\n",
    "    m = s.model()\n",
    "    img = np.zeros([Width,Height,3],dtype=np.uint8)\n",
    "    img.fill(255)\n",
    "    for i in range(n):\n",
    "        X = m[x[i]].as_long()\n",
    "        Y = m[y[i]].as_long()\n",
    "        W = m[w[i]].as_long()\n",
    "        H = m[h[i]].as_long()\n",
    "        cv2.rectangle(img,(X,100-Y),((X+W),100-(Y+H)),(0,255,0),-1)\n",
    "        cv2.rectangle(img,(X,100-Y),((X+W),100-(Y+H)),(0,0,0),1)\n",
    "\n",
    "    plt.imshow(img)"
   ]
  },
  {
   "cell_type": "code",
   "execution_count": 28,
   "metadata": {
    "scrolled": true
   },
   "outputs": [
    {
     "data": {
      "image/png": "[encoded data removed]",
      "text/plain": [
       "<Figure size 432x288 with 1 Axes>"
      ]
     },
     "metadata": {
      "needs_background": "light"
     },
     "output_type": "display_data"
    }
   ],
   "source": [
    "w = [10,20,30,40,20,40,50,30]\n",
    "l = [10,20,30,40,100,30,60,20]\n",
    "Fitt_rect(100,100,w,l)"
   ]
  },
  {
   "cell_type": "markdown",
   "metadata": {},
   "source": [
    "# Truck"
   ]
  },
  {
   "cell_type": "code",
   "execution_count": 11,
   "metadata": {},
   "outputs": [],
   "source": [
    "from z3 import *"
   ]
  },
  {
   "cell_type": "code",
   "execution_count": 12,
   "metadata": {},
   "outputs": [],
   "source": [
    "Truck = [Int(f't{i}') for i in range(8)]\n",
    "n = [Int(f'n{i}') for i in range(8)]\n",
    "p = [Int(f'p{i}') for i in range(8)]\n",
    "s = [Int(f's{i}') for i in range(8)]\n",
    "c = [Int(f'c{i}') for i in range(8)]\n",
    "d = [Int(f'd{i}') for i in range(8)]\n",
    "\n",
    "A = [And(Truck[i]==800*n[i]+1100*p[i]+1000*s[i]+2500*c[i]+200*d[i], n[i]+p[i]+s[i]+c[i]+d[i]<=8, Truck[i]<=8000, Or(p[i]==0,c[i]==0)) for i in range(8)]\n",
    "var = [n,s,c,d]\n",
    "num = [4,8,10,20]\n",
    "B = [sum(i)==j for i,j in zip(var,num)]+[sum(p)<=22]\n",
    "C = [s[i]==0 for i in range(8)[3:]]+[n[i]<2 for i in range(8)]\n",
    "D = [i[j]>=0 for  i in var for j in range(8)] + [p[i]>=0 for i in range(8)]\n"
   ]
  },
  {
   "cell_type": "code",
   "execution_count": 13,
   "metadata": {},
   "outputs": [],
   "source": [
    "opt = Optimize()\n",
    "opt.add(A+B+C+D)\n",
    "obj1 = opt.maximize(sum(p))\n",
    "opt.check()\n",
    "m = opt.model()"
   ]
  },
  {
   "cell_type": "code",
   "execution_count": 14,
   "metadata": {},
   "outputs": [
    {
     "name": "stdout",
     "output_type": "stream",
     "text": [
      "Max(p): 19\n"
     ]
    }
   ],
   "source": [
    "print(\"Max(p): \" + str(obj1.value()))"
   ]
  },
  {
   "cell_type": "markdown",
   "metadata": {},
   "source": [
    "# Sudoku"
   ]
  },
  {
   "cell_type": "code",
   "execution_count": 1,
   "metadata": {},
   "outputs": [],
   "source": [
    "from z3 import *"
   ]
  },
  {
   "cell_type": "code",
   "execution_count": 2,
   "metadata": {},
   "outputs": [],
   "source": [
    "# 9x9 matrix of integer variables\n",
    "X = [ [ Int(\"x_%s_%s\" % (i+1, j+1)) for j in range(9) ]\n",
    "      for i in range(9) ]\n",
    "\n",
    "# each cell contains a value in {1, ..., 9}\n",
    "cells_c  = [ And(1 <= X[i][j], X[i][j] <= 9) for i in range(9) for j in range(9) ]\n",
    "\n",
    "# each row contains a digit at most once\n",
    "rows_c   = [ Distinct(X[i]) for i in range(9) ]\n",
    "\n",
    "# each column contains a digit at most once\n",
    "cols_c   = [ Distinct([ X[i][j] for i in range(9) ]) for j in range(9) ]\n",
    "\n",
    "# each 3x3 square contains a digit at most once\n",
    "sq_c     = [ Distinct([ X[3*i0 + i][3*j0 + j] for i in range(3) for j in range(3) ]) for i0 in range(3) for j0 in range(3) ]\n"
   ]
  },
  {
   "cell_type": "code",
   "execution_count": 3,
   "metadata": {},
   "outputs": [],
   "source": [
    "consecutive_row = [(1,2),(1,4),(1,7),(3,2),(3,4),(3,5),(5,1),(5,2),(5,4),(5,6),(5,8),(6,3),(7,3),(8,6)]\n",
    "consecutive_col = [(4,3),(6,3),(6,4),(1,6),(6,6),(2,7),(3,7),(4,7),(6,7),(3,9),(4,9)]\n",
    "Left = [(2,i) for i in range(4,9)]+[(4,i) for i in range(1,6)]+[(6,i) for i in range(4,9)]+[(8,i) for i in range(1,6)]"
   ]
  },
  {
   "cell_type": "code",
   "execution_count": 4,
   "metadata": {},
   "outputs": [],
   "source": [
    "def abs(x):\n",
    "    return If(x >= 0, x, -x)"
   ]
  },
  {
   "cell_type": "code",
   "execution_count": 5,
   "metadata": {},
   "outputs": [],
   "source": [
    "Cond1 = [abs(X[i-1][j-1] - X[i-1][j])==1 for i,j in consecutive_row]\n",
    "Cond2 = [abs(X[i-1][j-1] - X[i][j-1])==1 for i,j in consecutive_col]\n",
    "Cond3 = [X[i-1][j-1] < X[i-1][j] for i,j in Left]"
   ]
  },
  {
   "cell_type": "code",
   "execution_count": 6,
   "metadata": {},
   "outputs": [
    {
     "data": {
      "text/plain": [
       "[x_2_4 < x_2_5,\n",
       " x_2_5 < x_2_6,\n",
       " x_2_6 < x_2_7,\n",
       " x_2_7 < x_2_8,\n",
       " x_2_8 < x_2_9,\n",
       " x_4_1 < x_4_2,\n",
       " x_4_2 < x_4_3,\n",
       " x_4_3 < x_4_4,\n",
       " x_4_4 < x_4_5,\n",
       " x_4_5 < x_4_6,\n",
       " x_6_4 < x_6_5,\n",
       " x_6_5 < x_6_6,\n",
       " x_6_6 < x_6_7,\n",
       " x_6_7 < x_6_8,\n",
       " x_6_8 < x_6_9,\n",
       " x_8_1 < x_8_2,\n",
       " x_8_2 < x_8_3,\n",
       " x_8_3 < x_8_4,\n",
       " x_8_4 < x_8_5,\n",
       " x_8_5 < x_8_6]"
      ]
     },
     "execution_count": 6,
     "metadata": {},
     "output_type": "execute_result"
    }
   ],
   "source": [
    "Cond3"
   ]
  },
  {
   "cell_type": "code",
   "execution_count": 7,
   "metadata": {},
   "outputs": [],
   "source": [
    "sudoku_c = cells_c + rows_c + cols_c + sq_c + Cond1 + Cond2 + Cond3"
   ]
  },
  {
   "cell_type": "code",
   "execution_count": 8,
   "metadata": {},
   "outputs": [
    {
     "name": "stdout",
     "output_type": "stream",
     "text": [
      "[[7, 4, 5, 8, 9, 3, 1, 2, 6],\n",
      " [3, 6, 9, 1, 2, 4, 5, 7, 8],\n",
      " [8, 2, 1, 5, 6, 7, 4, 9, 3],\n",
      " [2, 5, 6, 7, 8, 9, 3, 1, 4],\n",
      " [9, 8, 7, 4, 3, 1, 2, 6, 5],\n",
      " [4, 1, 3, 2, 5, 6, 7, 8, 9],\n",
      " [6, 9, 2, 3, 1, 5, 8, 4, 7],\n",
      " [1, 3, 4, 6, 7, 8, 9, 5, 2],\n",
      " [5, 7, 8, 9, 4, 2, 6, 3, 1]]\n"
     ]
    }
   ],
   "source": [
    "s = Solver()\n",
    "s.add(sudoku_c)\n",
    "if s.check() == sat:\n",
    "    m = s.model()\n",
    "    #r = [ [ m.evaluate(X[i][j]) for j in range(9) ] for i in range(9) ]\n",
    "    r = [ [ m[X[i][j]] for j in range(9) ] for i in range(9) ]\n",
    "    print_matrix(r)\n",
    "else:\n",
    "    print (\"failed to solve\")"
   ]
  },
  {
   "cell_type": "markdown",
   "metadata": {},
   "source": [
    "# Schedule Job"
   ]
  },
  {
   "cell_type": "code",
   "execution_count": 1,
   "metadata": {},
   "outputs": [],
   "source": [
    "from itertools import combinations\n",
    "from z3 import *"
   ]
  },
  {
   "cell_type": "code",
   "execution_count": 2,
   "metadata": {},
   "outputs": [
    {
     "name": "stdout",
     "output_type": "stream",
     "text": [
      "[(2, 3), (2, 4), (3, 4)]\n"
     ]
    }
   ],
   "source": [
    "C = [2,3,4]\n",
    "C = list(combinations(C,2))\n",
    "print(C)"
   ]
  },
  {
   "cell_type": "code",
   "execution_count": 3,
   "metadata": {},
   "outputs": [],
   "source": [
    "s = [Int(f's{i+1}') for i in range(10)]\n",
    "e = [Int(f'e{i+1}') for i in range(10)]\n",
    "j = [i+11 for i in range(10)]"
   ]
  },
  {
   "cell_type": "code",
   "execution_count": 4,
   "metadata": {},
   "outputs": [],
   "source": [
    "T = Int('T')\n",
    "J = [(3,1,2),(6,2,4),(8,3,6),(9,6,7),(10,8,9)]\n",
    "Cond1 = [e[i]-s[i]==j[i] for i in range(10)]\n",
    "Cond2 = [And(s[i-1]>=e[j-1],s[i-1]>=e[k-1]) for i,j,k in J]+[And(s[6]>=e[0],s[6]>=e[3],s[6]>=e[4])]\n",
    "Cond3 = [T>=e[i] for i in range(10)]\n",
    "Cond4 = [And(s[i]>=0,e[i]>=0) for i in range(10)]\n",
    "Cond5 = [s[6]>=s[7]]\n",
    "Cond6 = [Or(s[i]>=e[j],s[j]>=e[i]) for i,j in C]"
   ]
  },
  {
   "cell_type": "code",
   "execution_count": 10,
   "metadata": {},
   "outputs": [
    {
     "name": "stdout",
     "output_type": "stream",
     "text": [
      "Min(T): 98\n"
     ]
    }
   ],
   "source": [
    "opt = Optimize()\n",
    "opt.add(Cond1+Cond2+Cond3+Cond4+Cond5+Cond6)\n",
    "obj1 = opt.minimize(T)\n",
    "opt.check()\n",
    "m = opt.model()\n",
    "print(\"Min(T): \" + str(obj1.value()))"
   ]
  },
  {
   "cell_type": "code",
   "execution_count": 6,
   "metadata": {},
   "outputs": [
    {
     "name": "stdout",
     "output_type": "stream",
     "text": [
      "[0, 0, 12, 0, 15, 14, 30, 30, 47, 66]\n"
     ]
    }
   ],
   "source": [
    "print([m.evaluate(s[i]) for i in range(10)])"
   ]
  },
  {
   "cell_type": "code",
   "execution_count": 7,
   "metadata": {},
   "outputs": [
    {
     "name": "stdout",
     "output_type": "stream",
     "text": [
      "[11, 12, 25, 14, 30, 30, 47, 48, 66, 86]\n"
     ]
    }
   ],
   "source": [
    "print([m.evaluate(e[i]) for i in range(10)])"
   ]
  },
  {
   "cell_type": "markdown",
   "metadata": {},
   "source": [
    "# Bounded Model Checking"
   ]
  },
  {
   "cell_type": "code",
   "execution_count": 1,
   "metadata": {},
   "outputs": [],
   "source": [
    "from z3 import *"
   ]
  },
  {
   "cell_type": "code",
   "execution_count": 5,
   "metadata": {},
   "outputs": [],
   "source": [
    "index = 0\n",
    "def fresh(s):\n",
    "    global index\n",
    "    index += 1\n",
    "    return Const(\"!f%d\" % index, s)\n",
    "\n",
    "def zipp(xs, ys):\n",
    "    return [p for p in zip(xs, ys)]\n",
    "\n",
    "def bmc(init, trans, goal, fvs, xs, xns):\n",
    "    s = Solver()\n",
    "    s.add(init)\n",
    "    count = 0\n",
    "    while True:\n",
    "        print(\"iteration \", count)\n",
    "        count += 1\n",
    "        p = fresh(BoolSort())\n",
    "        s.add(Implies(p, goal))\n",
    "        if sat == s.check(p):\n",
    "            print (s.model())\n",
    "            return\n",
    "        s.add(trans)\n",
    "        ys = [fresh(x.sort()) for x in xs]\n",
    "        nfvs = [fresh(x.sort()) for x in fvs]\n",
    "        trans = substitute(trans, \n",
    "                           zipp(xns + xs + fvs, ys + xns + nfvs))\n",
    "        goal = substitute(goal, zipp(xs, xns))\n",
    "        xs, xns, fvs = xns, ys, nfvs"
   ]
  },
  {
   "cell_type": "code",
   "execution_count": 6,
   "metadata": {
    "collapsed": true,
    "jupyter": {
     "outputs_hidden": true
    }
   },
   "outputs": [
    {
     "name": "stdout",
     "output_type": "stream",
     "text": [
      "iteration  0\n",
      "iteration  1\n",
      "iteration  2\n",
      "iteration  3\n",
      "iteration  4\n",
      "iteration  5\n",
      "iteration  6\n",
      "iteration  7\n",
      "iteration  8\n",
      "iteration  9\n",
      "iteration  10\n",
      "iteration  11\n",
      "iteration  12\n",
      "iteration  13\n",
      "iteration  14\n",
      "[!f3 = False,\n",
      " !f5 = False,\n",
      " !f4 = 9,\n",
      " !f21 = False,\n",
      " !f19 = False,\n",
      " !f18 = 14,\n",
      " !f6 = 12,\n",
      " !f26 = 10,\n",
      " !f13 = False,\n",
      " !f15 = False,\n",
      " !f25 = False,\n",
      " !f29 = True,\n",
      " !f16 = 11,\n",
      " !f24 = 7,\n",
      " !f20 = 1,\n",
      " !f22 = 4,\n",
      " !f2 = 6,\n",
      " !f17 = False,\n",
      " !f7 = False,\n",
      " !f27 = False,\n",
      " !f12 = 5,\n",
      " x1 = 3,\n",
      " !f23 = False,\n",
      " !f1 = False,\n",
      " !f11 = False,\n",
      " !f8 = 15,\n",
      " !f9 = False,\n",
      " !f10 = 2,\n",
      " !f14 = 8,\n",
      " x0 = 0]\n"
     ]
    }
   ],
   "source": [
    "x0, x1 = Consts('x0 x1', BitVecSort(4))\n",
    "bmc(x0 == 0, x1 == x0 + 3, x0 == 10, [], [x0], [x1])"
   ]
  },
  {
   "cell_type": "code",
   "execution_count": 1,
   "metadata": {},
   "outputs": [],
   "source": [
    "from z3 import *"
   ]
  },
  {
   "cell_type": "code",
   "execution_count": 30,
   "metadata": {},
   "outputs": [
    {
     "name": "stdout",
     "output_type": "stream",
     "text": [
      "5\n",
      "6\n",
      "7\n",
      "9\n"
     ]
    }
   ],
   "source": [
    "n=0\n",
    "\n",
    "a = [Int(f'a{i}') for i in range(12)]\n",
    "b = [Int(f'b{i}') for i in range(12)]\n",
    "c = [Bool(f'c{i}') for i in range(11)]\n",
    "while n<10:\n",
    "    s = Solver()\n",
    "    n+=1\n",
    "    cond1 = [And(a[0]==1,b[0]==1,b[10]==600+n)]\n",
    "    cond2 = [If(c[i-1], And(a[i]==a[i-1]+2*b[i-1], b[i]==b[i-1]+i), And(a[i]==a[i-1]+i, b[i]==a[i-1]+b[i-1])) for i in range(1,12)]\n",
    "    s.add(cond1+cond2)\n",
    "    s.check()\n",
    "    if  sat != s.check():\n",
    "        print(n)"
   ]
  },
  {
   "cell_type": "code",
   "execution_count": 1,
   "metadata": {},
   "outputs": [],
   "source": [
    "from z3 import *"
   ]
  },
  {
   "cell_type": "code",
   "execution_count": 1,
   "metadata": {},
   "outputs": [],
   "source": [
    "from __future__ import print_function\n",
    "import sys\n",
    "if sys.version_info.major >= 3:\n",
    "    from functools import reduce\n",
    "from z3 import *\n",
    "\n",
    "def _to_complex(a):\n",
    "    if isinstance(a, ComplexExpr):\n",
    "        return a\n",
    "    else:\n",
    "        return ComplexExpr(a, IntVal(0))\n",
    "\n",
    "def _is_zero(a):\n",
    "    return (isinstance(a, int) and a == 0) or (is_rational_value(a) and a.numerator_as_long() == 0)\n",
    "\n",
    "class ComplexExpr:\n",
    "    def __init__(self, r, i):\n",
    "        self.r = r\n",
    "        self.i = i\n",
    "\n",
    "    def __add__(self, other):\n",
    "        other = _to_complex(other)\n",
    "        return ComplexExpr(self.r + other.r, self.i + other.i)\n",
    "\n",
    "    def __radd__(self, other):\n",
    "        other = _to_complex(other)\n",
    "        return ComplexExpr(other.r + self.r, other.i + self.i)\n",
    "\n",
    "    def __sub__(self, other):\n",
    "        other = _to_complex(other)\n",
    "        return ComplexExpr(self.r - other.r, self.i - other.i)\n",
    "\n",
    "    def __rsub__(self, other):\n",
    "        other = _to_complex(other)\n",
    "        return ComplexExpr(other.r - self.r, other.i - self.i)\n",
    "\n",
    "    def __mul__(self, other):\n",
    "        other = _to_complex(other)\n",
    "        return ComplexExpr(self.r*other.r - self.i*other.i, self.r*other.i + self.i*other.r)\n",
    "\n",
    "    def __rmul__(self, other):\n",
    "        other = _to_complex(other)\n",
    "        return ComplexExpr(other.r*self.r - other.i*self.i, other.i*self.r + other.r*self.i)\n",
    "\n",
    "    def __pow__(self, k):\n",
    "        if k == 0:\n",
    "            return ComplexExpr(1, 0)\n",
    "        if k == 1:\n",
    "            return self\n",
    "        if k < 0:\n",
    "            return (self ** (-k)).inv()\n",
    "        return reduce(lambda x, y: x * y, [self for _ in range(k)], ComplexExpr(1, 0))\n",
    "\n",
    "    def inv(self):\n",
    "        den = self.r*self.r + self.i*self.i\n",
    "        return ComplexExpr(self.r/den, -self.i/den)\n",
    "\n",
    "    def __div__(self, other):\n",
    "        inv_other = _to_complex(other).inv()\n",
    "        return self.__mul__(inv_other)\n",
    "\n",
    "    if sys.version_info.major >= 3:\n",
    "      # In python 3 the meaning of the '/' operator\n",
    "      # was changed.\n",
    "        def __truediv__(self, other):\n",
    "            return self.__div__(other)\n",
    "\n",
    "    def __rdiv__(self, other):\n",
    "        other = _to_complex(other)\n",
    "        return self.inv().__mul__(other)\n",
    "\n",
    "    def __eq__(self, other):\n",
    "        other = _to_complex(other)\n",
    "        return And(self.r == other.r, self.i == other.i)\n",
    "\n",
    "    def __neq__(self, other):\n",
    "        return Not(self.__eq__(other))\n",
    "\n",
    "    def simplify(self):\n",
    "        return ComplexExpr(simplify(self.r), simplify(self.i))\n",
    "\n",
    "    def repr_i(self):\n",
    "        if is_rational_value(self.i):\n",
    "            return \"%s*I\" % self.i\n",
    "        else:\n",
    "            return \"(%s)*I\" % str(self.i)\n",
    "\n",
    "    def __repr__(self):\n",
    "        if _is_zero(self.i):\n",
    "            return str(self.r)\n",
    "        elif _is_zero(self.r):\n",
    "            return self.repr_i()\n",
    "        else:\n",
    "            return \"%s + %s\" % (self.r, self.repr_i())"
   ]
  },
  {
   "cell_type": "code",
   "execution_count": 2,
   "metadata": {},
   "outputs": [],
   "source": [
    "def Complex(a):\n",
    "    return ComplexExpr(Real('%s.r' % a), Real('%s.i' % a))\n",
    "I = ComplexExpr(IntVal(0), IntVal(1))\n",
    "\n",
    "def evaluate_cexpr(m, e):\n",
    "    return ComplexExpr(m[e.r], m[e.i])"
   ]
  },
  {
   "cell_type": "code",
   "execution_count": 10,
   "metadata": {
    "collapsed": true,
    "jupyter": {
     "outputs_hidden": true
    }
   },
   "outputs": [
    {
     "name": "stdout",
     "output_type": "stream",
     "text": [
      "[And(x.r*x.r - x.i*x.i == -2,\n",
      "     ToReal(0) == x.r*x.i + x.i*x.r)]\n",
      "sat\n",
      "x = (-1.4142135623?)*I\n",
      "-2\n",
      "[And(x.r*x.r - x.i*x.i == -2,\n",
      "     ToReal(0) == x.r*x.i + x.i*x.r),\n",
      " x.i != -1]\n",
      "sat\n",
      "[x.i = -1.4142135623?, x.r = 0]\n",
      "sat\n",
      "((1*(3 + 0) - 0*(0 + 1))*(3 + 0) -\n",
      " (1*(0 + 1) + 0*(3 + 0))*(0 + 1))*\n",
      "((5 - 0)/((5 - 0)*(5 - 0) + (0 - 1)*(0 - 1))) -\n",
      "((1*(3 + 0) - 0*(0 + 1))*(0 + 1) +\n",
      " (1*(0 + 1) + 0*(3 + 0))*(3 + 0))*\n",
      "(-(0 - 1)/((5 - 0)*(5 - 0) + (0 - 1)*(0 - 1))) + (((1*(3 + 0) - 0*(0 + 1))*(3 + 0) -\n",
      " (1*(0 + 1) + 0*(3 + 0))*(0 + 1))*\n",
      "(-(0 - 1)/((5 - 0)*(5 - 0) + (0 - 1)*(0 - 1))) +\n",
      "((1*(3 + 0) - 0*(0 + 1))*(0 + 1) +\n",
      " (1*(0 + 1) + 0*(3 + 0))*(3 + 0))*\n",
      "((5 - 0)/((5 - 0)*(5 - 0) + (0 - 1)*(0 - 1))))*I\n",
      "((((1*(3 + 0) - 0*(0 + 1))*(3 + 0) -\n",
      "   (1*(0 + 1) + 0*(3 + 0))*(0 + 1))*\n",
      "  (3 + 0) -\n",
      "  ((1*(3 + 0) - 0*(0 + 1))*(0 + 1) +\n",
      "   (1*(0 + 1) + 0*(3 + 0))*(3 + 0))*\n",
      "  (0 + 1))/\n",
      " ((((1*(3 + 0) - 0*(0 + 1))*(3 + 0) -\n",
      "    (1*(0 + 1) + 0*(3 + 0))*(0 + 1))*\n",
      "   (3 + 0) -\n",
      "   ((1*(3 + 0) - 0*(0 + 1))*(0 + 1) +\n",
      "    (1*(0 + 1) + 0*(3 + 0))*(3 + 0))*\n",
      "   (0 + 1))*\n",
      "  (((1*(3 + 0) - 0*(0 + 1))*(3 + 0) -\n",
      "    (1*(0 + 1) + 0*(3 + 0))*(0 + 1))*\n",
      "   (3 + 0) -\n",
      "   ((1*(3 + 0) - 0*(0 + 1))*(0 + 1) +\n",
      "    (1*(0 + 1) + 0*(3 + 0))*(3 + 0))*\n",
      "   (0 + 1)) +\n",
      "  (((1*(3 + 0) - 0*(0 + 1))*(3 + 0) -\n",
      "    (1*(0 + 1) + 0*(3 + 0))*(0 + 1))*\n",
      "   (0 + 1) +\n",
      "   ((1*(3 + 0) - 0*(0 + 1))*(0 + 1) +\n",
      "    (1*(0 + 1) + 0*(3 + 0))*(3 + 0))*\n",
      "   (3 + 0))*\n",
      "  (((1*(3 + 0) - 0*(0 + 1))*(3 + 0) -\n",
      "    (1*(0 + 1) + 0*(3 + 0))*(0 + 1))*\n",
      "   (0 + 1) +\n",
      "   ((1*(3 + 0) - 0*(0 + 1))*(0 + 1) +\n",
      "    (1*(0 + 1) + 0*(3 + 0))*(3 + 0))*\n",
      "   (3 + 0))))*\n",
      "((5 - 0)/((5 - 0)*(5 - 0) + (0 - 1)*(0 - 1))) -\n",
      "(-(((1*(3 + 0) - 0*(0 + 1))*(3 + 0) -\n",
      "    (1*(0 + 1) + 0*(3 + 0))*(0 + 1))*\n",
      "   (0 + 1) +\n",
      "   ((1*(3 + 0) - 0*(0 + 1))*(0 + 1) +\n",
      "    (1*(0 + 1) + 0*(3 + 0))*(3 + 0))*\n",
      "   (3 + 0))/\n",
      " ((((1*(3 + 0) - 0*(0 + 1))*(3 + 0) -\n",
      "    (1*(0 + 1) + 0*(3 + 0))*(0 + 1))*\n",
      "   (3 + 0) -\n",
      "   ((1*(3 + 0) - 0*(0 + 1))*(0 + 1) +\n",
      "    (1*(0 + 1) + 0*(3 + 0))*(3 + 0))*\n",
      "   (0 + 1))*\n",
      "  (((1*(3 + 0) - 0*(0 + 1))*(3 + 0) -\n",
      "    (1*(0 + 1) + 0*(3 + 0))*(0 + 1))*\n",
      "   (3 + 0) -\n",
      "   ((1*(3 + 0) - 0*(0 + 1))*(0 + 1) +\n",
      "    (1*(0 + 1) + 0*(3 + 0))*(3 + 0))*\n",
      "   (0 + 1)) +\n",
      "  (((1*(3 + 0) - 0*(0 + 1))*(3 + 0) -\n",
      "    (1*(0 + 1) + 0*(3 + 0))*(0 + 1))*\n",
      "   (0 + 1) +\n",
      "   ((1*(3 + 0) - 0*(0 + 1))*(0 + 1) +\n",
      "    (1*(0 + 1) + 0*(3 + 0))*(3 + 0))*\n",
      "   (3 + 0))*\n",
      "  (((1*(3 + 0) - 0*(0 + 1))*(3 + 0) -\n",
      "    (1*(0 + 1) + 0*(3 + 0))*(0 + 1))*\n",
      "   (0 + 1) +\n",
      "   ((1*(3 + 0) - 0*(0 + 1))*(0 + 1) +\n",
      "    (1*(0 + 1) + 0*(3 + 0))*(3 + 0))*\n",
      "   (3 + 0))))*\n",
      "(-(0 - 1)/((5 - 0)*(5 - 0) + (0 - 1)*(0 - 1))) + (((((1*(3 + 0) - 0*(0 + 1))*(3 + 0) -\n",
      "   (1*(0 + 1) + 0*(3 + 0))*(0 + 1))*\n",
      "  (3 + 0) -\n",
      "  ((1*(3 + 0) - 0*(0 + 1))*(0 + 1) +\n",
      "   (1*(0 + 1) + 0*(3 + 0))*(3 + 0))*\n",
      "  (0 + 1))/\n",
      " ((((1*(3 + 0) - 0*(0 + 1))*(3 + 0) -\n",
      "    (1*(0 + 1) + 0*(3 + 0))*(0 + 1))*\n",
      "   (3 + 0) -\n",
      "   ((1*(3 + 0) - 0*(0 + 1))*(0 + 1) +\n",
      "    (1*(0 + 1) + 0*(3 + 0))*(3 + 0))*\n",
      "   (0 + 1))*\n",
      "  (((1*(3 + 0) - 0*(0 + 1))*(3 + 0) -\n",
      "    (1*(0 + 1) + 0*(3 + 0))*(0 + 1))*\n",
      "   (3 + 0) -\n",
      "   ((1*(3 + 0) - 0*(0 + 1))*(0 + 1) +\n",
      "    (1*(0 + 1) + 0*(3 + 0))*(3 + 0))*\n",
      "   (0 + 1)) +\n",
      "  (((1*(3 + 0) - 0*(0 + 1))*(3 + 0) -\n",
      "    (1*(0 + 1) + 0*(3 + 0))*(0 + 1))*\n",
      "   (0 + 1) +\n",
      "   ((1*(3 + 0) - 0*(0 + 1))*(0 + 1) +\n",
      "    (1*(0 + 1) + 0*(3 + 0))*(3 + 0))*\n",
      "   (3 + 0))*\n",
      "  (((1*(3 + 0) - 0*(0 + 1))*(3 + 0) -\n",
      "    (1*(0 + 1) + 0*(3 + 0))*(0 + 1))*\n",
      "   (0 + 1) +\n",
      "   ((1*(3 + 0) - 0*(0 + 1))*(0 + 1) +\n",
      "    (1*(0 + 1) + 0*(3 + 0))*(3 + 0))*\n",
      "   (3 + 0))))*\n",
      "(-(0 - 1)/((5 - 0)*(5 - 0) + (0 - 1)*(0 - 1))) +\n",
      "(-(((1*(3 + 0) - 0*(0 + 1))*(3 + 0) -\n",
      "    (1*(0 + 1) + 0*(3 + 0))*(0 + 1))*\n",
      "   (0 + 1) +\n",
      "   ((1*(3 + 0) - 0*(0 + 1))*(0 + 1) +\n",
      "    (1*(0 + 1) + 0*(3 + 0))*(3 + 0))*\n",
      "   (3 + 0))/\n",
      " ((((1*(3 + 0) - 0*(0 + 1))*(3 + 0) -\n",
      "    (1*(0 + 1) + 0*(3 + 0))*(0 + 1))*\n",
      "   (3 + 0) -\n",
      "   ((1*(3 + 0) - 0*(0 + 1))*(0 + 1) +\n",
      "    (1*(0 + 1) + 0*(3 + 0))*(3 + 0))*\n",
      "   (0 + 1))*\n",
      "  (((1*(3 + 0) - 0*(0 + 1))*(3 + 0) -\n",
      "    (1*(0 + 1) + 0*(3 + 0))*(0 + 1))*\n",
      "   (3 + 0) -\n",
      "   ((1*(3 + 0) - 0*(0 + 1))*(0 + 1) +\n",
      "    (1*(0 + 1) + 0*(3 + 0))*(3 + 0))*\n",
      "   (0 + 1)) +\n",
      "  (((1*(3 + 0) - 0*(0 + 1))*(3 + 0) -\n",
      "    (1*(0 + 1) + 0*(3 + 0))*(0 + 1))*\n",
      "   (0 + 1) +\n",
      "   ((1*(3 + 0) - 0*(0 + 1))*(0 + 1) +\n",
      "    (1*(0 + 1) + 0*(3 + 0))*(3 + 0))*\n",
      "   (3 + 0))*\n",
      "  (((1*(3 + 0) - 0*(0 + 1))*(3 + 0) -\n",
      "    (1*(0 + 1) + 0*(3 + 0))*(0 + 1))*\n",
      "   (0 + 1) +\n",
      "   ((1*(3 + 0) - 0*(0 + 1))*(0 + 1) +\n",
      "    (1*(0 + 1) + 0*(3 + 0))*(3 + 0))*\n",
      "   (3 + 0))))*\n",
      "((5 - 0)/((5 - 0)*(5 - 0) + (0 - 1)*(0 - 1))))*I\n"
     ]
    }
   ],
   "source": [
    "x = Complex(\"x\")\n",
    "s = Tactic('qfnra-nlsat').solver()\n",
    "s.add(x*x == -2)\n",
    "print(s)\n",
    "print(s.check())\n",
    "m = s.model()\n",
    "print('x = %s' % evaluate_cexpr(m, x))\n",
    "print((evaluate_cexpr(m,x)*evaluate_cexpr(m,x)).simplify())\n",
    "s.add(x.i != -1)\n",
    "print(s)\n",
    "print(s.check())\n",
    "print(s.model())\n",
    "s.add(x.i != 1)\n",
    "print(s.check())\n",
    "# print(s.model())\n",
    "print(((3 + I) ** 2)/(5 - I))\n",
    "print(((3 + I) ** -3)/(5 - I))"
   ]
  },
  {
   "cell_type": "code",
   "execution_count": 14,
   "metadata": {},
   "outputs": [
    {
     "name": "stdout",
     "output_type": "stream",
     "text": [
      "[1/8 + -1/2*I, 1/2 + -1/2*I, -1/8 + 1/2*I]\n"
     ]
    }
   ],
   "source": [
    "x = [Complex(f'x{i}') for i in range(3)]\n",
    "cond = [x[0]*x[1]+x[1]*x[2]==0]\n",
    "s = Solver()\n",
    "s.add(cond)\n",
    "s.check()\n",
    "m = s.model()\n",
    "print([evaluate_cexpr(m, x[i]) for i in range(3)])"
   ]
  },
  {
   "cell_type": "code",
   "execution_count": 12,
   "metadata": {},
   "outputs": [
    {
     "name": "stdout",
     "output_type": "stream",
     "text": [
      "[And(x.r*x.r - x.i*x.i == -2,\n",
      "     ToReal(0) == x.r*x.i + x.i*x.r)]\n",
      "sat\n",
      "x = (-1.4142135623?)*I\n"
     ]
    }
   ],
   "source": [
    "x = Complex(\"x\")\n",
    "s = Tactic('qfnra-nlsat').solver()\n",
    "s.add(x*x == -2)\n",
    "print(s)\n",
    "print(s.check())\n",
    "m = s.model()\n",
    "print('x = %s' % evaluate_cexpr(m, x))"
   ]
  },
  {
   "cell_type": "code",
   "execution_count": 4,
   "metadata": {},
   "outputs": [
    {
     "name": "stdout",
     "output_type": "stream",
     "text": [
      "pass\n"
     ]
    }
   ],
   "source": [
    "a,b,c = Bools('a b c')\n",
    "if Not(a) in [Not(a)]:\n",
    "    print('pass')"
   ]
  },
  {
   "cell_type": "code",
   "execution_count": 5,
   "metadata": {},
   "outputs": [],
   "source": [
    "A = Or(a,b)"
   ]
  },
  {
   "cell_type": "code",
   "execution_count": 6,
   "metadata": {},
   "outputs": [
    {
     "data": {
      "text/plain": [
       "[a, b]"
      ]
     },
     "execution_count": 6,
     "metadata": {},
     "output_type": "execute_result"
    }
   ],
   "source": [
    "A.children()"
   ]
  },
  {
   "cell_type": "code",
   "execution_count": 18,
   "metadata": {},
   "outputs": [],
   "source": [
    "from __future__ import print_function\n",
    "import sys\n",
    "if sys.version_info.major >= 3:\n",
    "    from functools import reduce\n",
    "from z3 import *\n",
    "\n",
    "def _to_complex(a):\n",
    "    if isinstance(a, GComplexExpr):\n",
    "        return a\n",
    "    else:\n",
    "        return GComplexExpr(a, Int(0))\n",
    "\n",
    "def _is_zero(a):\n",
    "    return (isinstance(a, int) and a == 0) or (is_rational_value(a) and a.numerator_as_long() == 0)\n",
    "\n",
    "class GComplexExpr:\n",
    "    def __init__(self, r, i):\n",
    "        self.r = r\n",
    "        self.i = i\n",
    "\n",
    "    def __add__(self, other):\n",
    "        other = _to_complex(other)\n",
    "        return GComplexExpr(self.r + other.r, self.i + other.i)\n",
    "\n",
    "    def __radd__(self, other):\n",
    "        other = _to_complex(other)\n",
    "        return GComplexExpr(other.r + self.r, other.i + self.i)\n",
    "\n",
    "    def __sub__(self, other):\n",
    "        other = _to_complex(other)\n",
    "        return GComplexExpr(self.r - other.r, self.i - other.i)\n",
    "\n",
    "    def __rsub__(self, other):\n",
    "        other = _to_complex(other)\n",
    "        return GComplexExpr(other.r - self.r, other.i - self.i)\n",
    "\n",
    "    def __mul__(self, other):\n",
    "        other = _to_complex(other)\n",
    "        return GComplexExpr(self.r*other.r - self.i*other.i, self.r*other.i + self.i*other.r)\n",
    "\n",
    "    def __rmul__(self, other):\n",
    "        other = _to_complex(other)\n",
    "        return GComplexExpr(other.r*self.r - other.i*self.i, other.i*self.r + other.r*self.i)\n",
    "\n",
    "    def __pow__(self, k):\n",
    "        if k == 0:\n",
    "            return GComplexExpr(1, 0)\n",
    "        if k == 1:\n",
    "            return self\n",
    "        if k < 0:\n",
    "            return (self ** (-k)).inv()\n",
    "        return reduce(lambda x, y: x * y, [self for _ in range(k)], GComplexExpr(1, 0))\n",
    "\n",
    "    def inv(self):\n",
    "        den = self.r*self.r + self.i*self.i\n",
    "        return GComplexExpr(self.r/den, -self.i/den)\n",
    "\n",
    "    def __div__(self, other):\n",
    "        inv_other = _to_complex(other).inv()\n",
    "        return self.__mul__(inv_other)\n",
    "\n",
    "    if sys.version_info.major >= 3:\n",
    "      # In python 3 the meaning of the '/' operator\n",
    "      # was changed.\n",
    "        def __truediv__(self, other):\n",
    "            return self.__div__(other)\n",
    "\n",
    "    def __rdiv__(self, other):\n",
    "        other = _to_complex(other)\n",
    "        return self.inv().__mul__(other)\n",
    "\n",
    "    def __eq__(self, other):\n",
    "        other = _to_complex(other)\n",
    "        return And(self.r == other.r, self.i == other.i)\n",
    "\n",
    "    def __neq__(self, other):\n",
    "        return Not(self.__eq__(other))\n",
    "\n",
    "    def simplify(self):\n",
    "        return GComplexExpr(simplify(self.r), simplify(self.i))\n",
    "\n",
    "    def repr_i(self):\n",
    "        if is_rational_value(self.i):\n",
    "            return \"%s*I\" % self.i\n",
    "        else:\n",
    "            return \"(%s)*I\" % str(self.i)\n",
    "    def conjugate(self):\n",
    "        return GComplexExpr(self.r, -self.i)\n",
    "\n",
    "    def __repr__(self):\n",
    "        if _is_zero(self.i):\n",
    "            return str(self.r)\n",
    "        elif _is_zero(self.r):\n",
    "            return self.repr_i()\n",
    "        else:\n",
    "            return \"%s + %s\" % (self.r, self.repr_i())\n",
    "        \n",
    "def GInt(a):\n",
    "    return GComplexExpr(Int('%s.r' % a), Int('%s.i' % a))\n",
    "\n",
    "I = GComplexExpr(IntVal(0), Int(1))\n",
    "\n",
    "def evaluate_gcexpr(m, e):\n",
    "    return GComplexExpr(m[e.r], m[e.i])"
   ]
  },
  {
   "cell_type": "code",
   "execution_count": 19,
   "metadata": {},
   "outputs": [
    {
     "name": "stdout",
     "output_type": "stream",
     "text": [
      "[5 + (-8)*I, 1 + (-1)*I, -4 + (4)*I, 0 + (-1)*I, 3 + (7)*I, -1 + (0)*I, 6 + (2)*I, -7 + (-6)*I, -7 + (-3)*I]\n"
     ]
    }
   ],
   "source": [
    "x = [GInt(f'x{i}') for i in range(9)]\n",
    "y = [x[i]*x[i+1] for i in range(8)]\n",
    "cond = [sum(y) == 0]\n",
    "s = Solver()\n",
    "s.add(cond)\n",
    "s.check()\n",
    "m = s.model()\n",
    "print([evaluate_gcexpr(m, x[i]) for i in range(9)])"
   ]
  },
  {
   "cell_type": "code",
   "execution_count": 36,
   "metadata": {},
   "outputs": [
    {
     "name": "stdout",
     "output_type": "stream",
     "text": [
      "[6 + (-6)*I, -3 + (3)*I, 6 + (-6)*I, 6 + (-6)*I, -3 + (3)*I, 6 + (-6)*I, 6 + (-6)*I, 6 + (-6)*I, -3 + (3)*I]\n",
      "[-3 + (-3)*I, 6 + (6)*I, -3 + (-3)*I, 6 + (6)*I, 6 + (6)*I, 6 + (6)*I, 6 + (6)*I, -3 + (-3)*I, 6 + (6)*I]\n",
      "[-1 + (1)*I, 2 + (-2)*I, -1 + (1)*I, 2 + (-2)*I, -1 + (1)*I, 2 + (-2)*I, 2 + (-2)*I, 2 + (-2)*I, 2 + (-2)*I]\n",
      "[-6 + (0)*I, 3 + (0)*I, -6 + (0)*I, -6 + (0)*I, 3 + (0)*I, -6 + (0)*I, -6 + (0)*I, -6 + (0)*I, 3 + (0)*I]\n",
      "[-1 + (-1)*I, 2 + (2)*I, -1 + (-1)*I, 2 + (2)*I, 2 + (2)*I, 2 + (2)*I, 2 + (2)*I, -1 + (-1)*I, 2 + (2)*I]\n",
      "[1 + (1)*I, -2 + (-2)*I, 1 + (1)*I, 1 + (1)*I, 1 + (1)*I, 1 + (1)*I, -2 + (-2)*I, -2 + (-2)*I, 1 + (1)*I]\n",
      "[-2 + (3)*I, 4 + (-6)*I, -2 + (3)*I, -2 + (3)*I, -2 + (3)*I, 4 + (-6)*I, 4 + (-6)*I, -2 + (3)*I, -2 + (3)*I]\n",
      "[6 + (2)*I, -3 + (-1)*I, 6 + (2)*I, 6 + (2)*I, -3 + (-1)*I, 6 + (2)*I, -3 + (-1)*I, 6 + (2)*I, 6 + (2)*I]\n",
      "[-6 + (4)*I, 3 + (-2)*I, -6 + (4)*I, -6 + (4)*I, -6 + (4)*I, 3 + (-2)*I, -6 + (4)*I, -6 + (4)*I, 3 + (-2)*I]\n",
      "[3 + (-1)*I, -6 + (2)*I, 3 + (-1)*I, 3 + (-1)*I, -6 + (2)*I, -6 + (2)*I, 3 + (-1)*I, 3 + (-1)*I, 3 + (-1)*I]\n"
     ]
    }
   ],
   "source": [
    "n = 9\n",
    "c = [GInt(f'x{i}') for i in range(3)]\n",
    "x = [GInt(f'x{i}') for i in range(n)]\n",
    "b = [Bool(f'c{i}') for i in range(n)]\n",
    "cond1 = [If(b[i],x[i]==c[0],x[i]==c[1]) for i in range(1,n)]+[x[0]==c[2]]\n",
    "cond2 = [sum([x[i]*x[i+1] for i in range(n-1)])+x[0]*x[n-1]==0]\n",
    "s = Solver()\n",
    "s.add(cond1+cond2)\n",
    "for _ in range(10):\n",
    "    s.check()\n",
    "    m = s.model()\n",
    "    print([evaluate_gcexpr(m, x[i]) for i in range(n)])\n"
   ]
  },
  {
   "cell_type": "code",
   "execution_count": 38,
   "metadata": {},
   "outputs": [
    {
     "name": "stdout",
     "output_type": "stream",
     "text": [
      "[0 + (2)*I, -5 + (-1)*I, 0 + (2)*I, 0 + (2)*I, -5 + (-1)*I, 0 + (2)*I, 0 + (2)*I, 0 + (2)*I, -5 + (-1)*I]\n",
      "[-3 + (-1)*I, 3 + (-4)*I, -3 + (-1)*I, -3 + (-1)*I, 3 + (-4)*I, -3 + (-1)*I, 3 + (-4)*I, -3 + (-1)*I, -3 + (-1)*I]\n",
      "[-8 + (1)*I, 1 + (-5)*I, -8 + (1)*I, 1 + (-5)*I, 1 + (-5)*I, 1 + (-5)*I, 1 + (-5)*I, -8 + (1)*I, 1 + (-5)*I]\n",
      "[1 + (-1)*I, 0 + (2)*I, 1 + (-1)*I, 0 + (2)*I, 0 + (2)*I, 0 + (2)*I, 1 + (-1)*I, 0 + (2)*I, 0 + (2)*I]\n",
      "[-1 + (7)*I, -4 + (-2)*I, -1 + (7)*I, -4 + (-2)*I, -1 + (7)*I, -4 + (-2)*I, -4 + (-2)*I, -4 + (-2)*I, -4 + (-2)*I]\n",
      "[4 + (5)*I, 1 + (-1)*I, 4 + (5)*I, 1 + (-1)*I, 1 + (-1)*I, 1 + (-1)*I, 1 + (-1)*I, 4 + (5)*I, 1 + (-1)*I]\n",
      "[-5 + (-3)*I, 4 + (-1)*I, -5 + (-3)*I, -5 + (-3)*I, 4 + (-1)*I, -5 + (-3)*I, -5 + (-3)*I, 4 + (-1)*I, -5 + (-3)*I]\n",
      "[-2 + (2)*I, 3 + (1)*I, -2 + (2)*I, 3 + (1)*I, -2 + (2)*I, -2 + (2)*I, 3 + (1)*I, -2 + (2)*I, -2 + (2)*I]\n",
      "[-7 + (-6)*I, -2 + (4)*I, -7 + (-6)*I, -2 + (4)*I, -2 + (4)*I, -7 + (-6)*I, -2 + (4)*I, -2 + (4)*I, -2 + (4)*I]\n",
      "[0 + (0)*I, -1 + (-8)*I, 0 + (0)*I, -1 + (-8)*I, 0 + (0)*I, -1 + (-8)*I, 0 + (0)*I, 0 + (0)*I, -1 + (-8)*I]\n"
     ]
    }
   ],
   "source": [
    "def R(s,t):\n",
    "    new_s = s+[s[0]]\n",
    "    a=0\n",
    "    for i in range(len(new_s)-t):\n",
    "        a += new_s[i]*new_s[i+t].conjugate()\n",
    "    return a\n",
    "n = 9\n",
    "c = [GInt(f'x{i}') for i in range(3)]\n",
    "x = [GInt(f'x{i}') for i in range(n)]\n",
    "b = [Bool(f'c{i}') for i in range(n)]\n",
    "cond1 = [If(b[i],x[i]==c[0],x[i]==c[1]) for i in range(1,n)]+[x[0]==c[2]]\n",
    "cond2 = [R(x,1)==0]\n",
    "s = Solver()\n",
    "s.add(cond1+cond2)\n",
    "for _ in range(10):\n",
    "    s.check()\n",
    "    m = s.model()\n",
    "    print([evaluate_gcexpr(m, x[i]) for i in range(n)])"
   ]
  },
  {
   "cell_type": "code",
   "execution_count": 16,
   "metadata": {},
   "outputs": [
    {
     "data": {
      "text/plain": [
       "True"
      ]
     },
     "execution_count": 16,
     "metadata": {},
     "output_type": "execute_result"
    }
   ],
   "source": [
    "0*1j == 0"
   ]
  },
  {
   "cell_type": "code",
   "execution_count": 22,
   "metadata": {},
   "outputs": [
    {
     "data": {
      "text/plain": [
       "0j"
      ]
     },
     "execution_count": 22,
     "metadata": {},
     "output_type": "execute_result"
    }
   ],
   "source": [
    "I = 1j\n",
    "x = [-1 + (-1)*I, -4 + (5)*I, -1 + (-1)*I, -4 + (5)*I, -1 + (-1)*I, -1 + (-1)*I, -4 + (5)*I, -1 + (-1)*I, -1 + (-1)*I]\n",
    "R(x,1)"
   ]
  },
  {
   "cell_type": "code",
   "execution_count": 26,
   "metadata": {},
   "outputs": [
    {
     "name": "stdout",
     "output_type": "stream",
     "text": [
      "[0, 1, 0, 1, 0, 0, 1, 0, 0]\n",
      "[0, 1, 0, 1, 1, 1, 0, 1, 1]\n",
      "[1, 0, 1, 1, 0, 1, 1, 1, 0]\n"
     ]
    }
   ],
   "source": [
    "a = [-1 + (-1)*I, -4 + (5)*I, -1 + (-1)*I, -4 + (5)*I, -1 + (-1)*I, -1 + (-1)*I, -4 + (5)*I, -1 + (-1)*I, -1 + (-1)*I]\n",
    "b = [2 + (-3)*I, -5 + (1)*I, 2 + (-3)*I, -5 + (1)*I, -5 + (1)*I, -5 + (1)*I, 2 + (-3)*I, -5 + (1)*I, -5 + (1)*I]\n",
    "c = [2 + (-4)*I, -5 + (0)*I, 2 + (-4)*I, 2 + (-4)*I, -5 + (0)*I, 2 + (-4)*I, 2 + (-4)*I, 2 + (-4)*I, -5 + (0)*I]\n",
    "A = []\n",
    "B = []\n",
    "C = []\n",
    "a1,a2 = tuple(set(a))\n",
    "b1,b2 = tuple(set(b))\n",
    "c1,c2 = tuple(set(c))\n",
    "\n",
    "for i in a:\n",
    "    if i==a1:\n",
    "        A.append(0)\n",
    "    else:\n",
    "        A.append(1)\n",
    "        \n",
    "for i in b:\n",
    "    if i==b1:\n",
    "        B.append(0)\n",
    "    else:\n",
    "        B.append(1)\n",
    "\n",
    "for i in c:\n",
    "    if i==c1:\n",
    "        C.append(0)\n",
    "    else:\n",
    "        C.append(1)\n",
    "print(A)\n",
    "print(B)\n",
    "print(C)"
   ]
  },
  {
   "cell_type": "code",
   "execution_count": 31,
   "metadata": {},
   "outputs": [],
   "source": [
    "def step(s):\n",
    "    a1,a2 = tuple(set(s))\n",
    "    A = []\n",
    "    for i in s:\n",
    "        if i==a1:\n",
    "            A.append(0)\n",
    "        else:\n",
    "            A.append(1)\n",
    "    print(A)"
   ]
  },
  {
   "cell_type": "code",
   "execution_count": 32,
   "metadata": {},
   "outputs": [
    {
     "name": "stdout",
     "output_type": "stream",
     "text": [
      "[1, 0, 1, 1, 1, 0, 0, 1, 1, 0, 1, 0]\n"
     ]
    }
   ],
   "source": [
    "A = [6 + (7)*I, -1 + (-4)*I, 6 + (7)*I, 6 + (7)*I, 6 + (7)*I, -1 + (-4)*I, -1 + (-4)*I, 6 + (7)*I, 6 + (7)*I, -1 + (-4)*I, 6 + (7)*I, -1 + (-4)*I]\n",
    "step(A)"
   ]
  },
  {
   "cell_type": "code",
   "execution_count": 33,
   "metadata": {},
   "outputs": [
    {
     "name": "stdout",
     "output_type": "stream",
     "text": [
      "[1, 0, 1, 0, 0, 0, 1, 0, 0, 1, 1, 0]\n"
     ]
    }
   ],
   "source": [
    "B = [-1 + (2)*I, 4 + (-3)*I, -1 + (2)*I, 4 + (-3)*I, 4 + (-3)*I, 4 + (-3)*I, -1 + (2)*I, 4 + (-3)*I, 4 + (-3)*I, -1 + (2)*I, -1 + (2)*I, 4 + (-3)*I]\n",
    "step(B)"
   ]
  },
  {
   "cell_type": "code",
   "execution_count": 37,
   "metadata": {},
   "outputs": [
    {
     "name": "stdout",
     "output_type": "stream",
     "text": [
      "[7 + (3)*I, 0 + (0)*I, 7 + (3)*I, 0 + (0)*I, 0 + (0)*I, 7 + (3)*I, 0 + (0)*I, 0 + (0)*I, 7 + (3)*I, 0 + (0)*I, 0 + (0)*I]\n",
      "[0 + (0)*I, 3 + (0)*I, 0 + (0)*I, 0 + (0)*I, 3 + (0)*I, 0 + (0)*I, 3 + (0)*I, 0 + (0)*I, 0 + (0)*I, 3 + (0)*I, 0 + (0)*I]\n",
      "[-5 + (1)*I, 0 + (0)*I, -5 + (1)*I, 0 + (0)*I, 0 + (0)*I, -5 + (1)*I, 0 + (0)*I, -5 + (1)*I, 0 + (0)*I, -5 + (1)*I, 0 + (0)*I]\n",
      "[-6 + (-6)*I, 5 + (5)*I, -6 + (-6)*I, 5 + (5)*I, -6 + (-6)*I, 5 + (5)*I, -6 + (-6)*I, -6 + (-6)*I, -6 + (-6)*I, -6 + (-6)*I, -6 + (-6)*I]\n",
      "[0 + (0)*I, 3 + (5)*I, 0 + (0)*I, 0 + (0)*I, 3 + (5)*I, 0 + (0)*I, 0 + (0)*I, 0 + (0)*I, 3 + (5)*I, 0 + (0)*I, 0 + (0)*I]\n",
      "[5 + (1)*I, 0 + (0)*I, 5 + (1)*I, 0 + (0)*I, 5 + (1)*I, 0 + (0)*I, 5 + (1)*I, 0 + (0)*I, 5 + (1)*I, 0 + (0)*I, 0 + (0)*I]\n",
      "[0 + (0)*I, 1 + (1)*I, 0 + (0)*I, 0 + (0)*I, 1 + (1)*I, 0 + (0)*I, 0 + (0)*I, 0 + (0)*I, 1 + (1)*I, 0 + (0)*I, 0 + (0)*I]\n",
      "[-5 + (-1)*I, 0 + (0)*I, -5 + (-1)*I, 0 + (0)*I, 0 + (0)*I, 0 + (0)*I, -5 + (-1)*I, 0 + (0)*I, -5 + (-1)*I, 0 + (0)*I, 0 + (0)*I]\n",
      "[2 + (-3)*I, 0 + (0)*I, 2 + (-3)*I, 0 + (0)*I, 0 + (0)*I, 0 + (0)*I, 2 + (-3)*I, 0 + (0)*I, 0 + (0)*I, 2 + (-3)*I, 0 + (0)*I]\n",
      "[0 + (0)*I, 1 + (3)*I, 0 + (0)*I, 0 + (0)*I, 1 + (3)*I, 0 + (0)*I, 1 + (3)*I, 0 + (0)*I, 1 + (3)*I, 0 + (0)*I, 0 + (0)*I]\n"
     ]
    }
   ],
   "source": [
    "n = 11\n",
    "c = [GInt(f'x{i}') for i in range(3)]\n",
    "x = [GInt(f'x{i}') for i in range(n)]\n",
    "b = [Bool(f'c{i}') for i in range(n)]\n",
    "cond1 = [If(b[i],x[i]==c[0],x[i]==c[1]) for i in range(1,n)]+[x[0]==c[2]]\n",
    "cond2 = [sum([x[i]*x[i+1] for i in range(n-1)])+x[0]*x[n-1]==0]\n",
    "s = Solver()\n",
    "s.add(cond1+cond2)\n",
    "for _ in range(10):\n",
    "    s.check()\n",
    "    m = s.model()\n",
    "    print([evaluate_gcexpr(m, x[i]) for i in range(n)])\n",
    "    "
   ]
  },
  {
   "cell_type": "code",
   "execution_count": null,
   "metadata": {},
   "outputs": [],
   "source": []
  }
 ],
 "metadata": {
  "kernelspec": {
   "display_name": "Python 3",
   "language": "python",
   "name": "python3"
  },
  "language_info": {
   "codemirror_mode": {
    "name": "ipython",
    "version": 3
   },
   "file_extension": ".py",
   "mimetype": "text/x-python",
   "name": "python",
   "nbconvert_exporter": "python",
   "pygments_lexer": "ipython3",
   "version": "3.7.4"
  }
 },
 "nbformat": 4,
 "nbformat_minor": 4
}
